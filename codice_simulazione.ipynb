{
 "cells": [
  {
   "cell_type": "markdown",
   "id": "5c9e0ee3",
   "metadata": {},
   "source": [
    "Codice per la simulazione della rete stradale del quartiere Bicocca, in particolare dell'area che circonda gli edifici U5, U9 e Piazza della scienza."
   ]
  },
  {
   "cell_type": "code",
   "execution_count": 1,
   "id": "381b03d6",
   "metadata": {},
   "outputs": [],
   "source": [
    "# Importiamo i pacchetti necessari\n",
    "import numpy as np\n",
    "import matplotlib.pyplot as plt\n",
    "import math\n",
    "from pickle import *"
   ]
  },
  {
   "cell_type": "markdown",
   "id": "c72e6c43",
   "metadata": {},
   "source": [
    "Iniziamo con il definire le funzioni che utilizzeremo in seguito."
   ]
  },
  {
   "cell_type": "code",
   "execution_count": 2,
   "id": "873c3ae0",
   "metadata": {},
   "outputs": [],
   "source": [
    "# Definizione del flusso lungo la rete stradale. E' uguale su tutte le vie\n",
    "# poiché per come è stato scelto dipende solo dal limite di velocità.\n",
    "def flux(u:np.array) -> np.array:\n",
    "    global V_max\n",
    "    return np.array(V_max*u*(1-u))\n",
    "\n",
    "V_max = 125/9 # Velocità massima di 50 km/h, in metri al secondo 125/9 m/s\n",
    "sigma = 0.5 # Punto di massimo per il flusso"
   ]
  },
  {
   "cell_type": "code",
   "execution_count": 3,
   "id": "3b9d0d18",
   "metadata": {},
   "outputs": [],
   "source": [
    "def E_sin(t: np.array) -> np.array:\n",
    "    sol = np.zeros(len(t))\n",
    "    for i in range(len(t)):\n",
    "         sol[i] = math.sin((math.pi/600)*t[i])*math.sin((math.pi/600)*t[i])*0.2\n",
    "    return sol\n",
    "\n",
    "def E_cos(t: np.array) -> np.array:\n",
    "    sol = np.zeros(len(t))\n",
    "    for i in range(len(t)):\n",
    "         sol[i] = math.cos((math.pi/600)*t[i])*math.cos((math.pi/600)*t[i])*0.2\n",
    "    return sol"
   ]
  },
  {
   "cell_type": "code",
   "execution_count": 4,
   "id": "3a58fe45",
   "metadata": {},
   "outputs": [],
   "source": [
    "def max_f(density, incoming=True) -> float: # Definizione dei gamma_max per i flussi all'incrocio\n",
    "    global flux, sigma\n",
    "    if (density < sigma and incoming) or (density > sigma and not incoming):\n",
    "        return flux(density)\n",
    "    else:\n",
    "        return flux(sigma)"
   ]
  },
  {
   "cell_type": "markdown",
   "id": "f4367a71",
   "metadata": {},
   "source": [
    "Codice di risoluzione dell'incrocio 1x2"
   ]
  },
  {
   "cell_type": "code",
   "execution_count": 5,
   "id": "e98a6d78",
   "metadata": {},
   "outputs": [],
   "source": [
    "def solution_1x2(densities:list, alfa: float) -> np.array:\n",
    "  global max_f\n",
    "  f_bar = np.zeros(3) # Flussi all'incrocio\n",
    "  gamma_max = [max_f(densities[i], i == 0) for i in range(3)]\n",
    "  f_bar[0] = min(gamma_max[0], gamma_max[1]/alfa, gamma_max[2]/(1-alfa))\n",
    "  f_bar[1] = alfa*f_bar[0]\n",
    "  f_bar[2] = (1-alfa)*f_bar[0]\n",
    "  return f_bar"
   ]
  },
  {
   "cell_type": "markdown",
   "id": "e97db84c",
   "metadata": {},
   "source": [
    "Codice di risoluzione dell'incrocio 2x1"
   ]
  },
  {
   "cell_type": "code",
   "execution_count": 6,
   "id": "89eda8d1",
   "metadata": {},
   "outputs": [],
   "source": [
    "def solution_2x1(densities:list, q:float) -> np.array:\n",
    "    global  max_f, is_acceptable\n",
    "    f_bar = np.zeros(3)\n",
    "    gamma_max = [max_f(densities[i], i<2) for i in range(3)]\n",
    "    if gamma_max[0] + gamma_max[1] <= gamma_max[2]: # Non è necessaria la precedenza\n",
    "      f_bar[0] = gamma_max[0]\n",
    "      f_bar[1] = gamma_max[1]\n",
    "      f_bar[2] = gamma_max[0]+ gamma_max[1]\n",
    "    else: # Serve la precedenza\n",
    "      point = [gamma_max[2]*q/(1+q), gamma_max[2]/(1+q), gamma_max[2]]\n",
    "      if point[0] <= gamma_max[0] and point[1] <= gamma_max[1]:\n",
    "        f_bar = np.array(point)\n",
    "      else:\n",
    "        p_int = [[gamma_max[0], gamma_max[2]- gamma_max[0]], [gamma_max[2]- gamma_max[1], gamma_max[1]]]\n",
    "        if p_int[0][1] > gamma_max[1] or p_int[1][0] > gamma_max[0]:\n",
    "          f_bar[0] = gamma_max[0]\n",
    "          f_bar[1] = gamma_max[1]\n",
    "          f_bar[2] = gamma_max[2]\n",
    "        else:\n",
    "          dist1 = np.linalg.norm([point[0]- p_int[0][0], point[1] - p_int[0][1]])\n",
    "          dist2 = np.linalg.norm([point[0]- p_int[1][0], point[1]- p_int[1][1]])\n",
    "          if dist1 <= dist2:\n",
    "            f_bar = np.array([p_int[0][0], p_int[0][1], gamma_max[2]])\n",
    "          else:\n",
    "            f_bar = np.array([p_int[1][0], p_int[1][1], gamma_max[2]])\n",
    "    return f_bar"
   ]
  },
  {
   "cell_type": "markdown",
   "id": "748690bc",
   "metadata": {},
   "source": [
    "Codice dell'incrocio 2x2"
   ]
  },
  {
   "cell_type": "code",
   "execution_count": 7,
   "id": "9581a732",
   "metadata": {},
   "outputs": [],
   "source": [
    "def is_acceptable(point:tuple, gamma_max:list, alpha: float, beta:float) -> bool:\n",
    "    \n",
    "    positivity = point[0] >= 0. and point[1] >= 0.\n",
    "    constraint_12 = point[0] <= gamma_max[0] and point[1] <= gamma_max[1]\n",
    "    contraint_3 = alpha*point[0] + beta*point[1] <= gamma_max[2]\n",
    "    contraint_4 = (1-alpha)*point[0] + (1-beta)*point[1] <= gamma_max[3]\n",
    "\n",
    "    return positivity and constraint_12 and contraint_3 and contraint_4\n",
    "\n",
    "def solution_2x2(densities:list, par: list) -> np.array:\n",
    "    global max_f, is_acceptable\n",
    "    alpha = par[0]\n",
    "    beta = par[1]\n",
    "    gamma_max = [max_f(densities[i], i<2) for i in range(4)]\n",
    "\n",
    "    points_omega = []\n",
    "    # asse verticale\n",
    "    points_omega.append((0., min(gamma_max[1], gamma_max[2]/beta, gamma_max[3]/(1-beta))))\n",
    "\n",
    "    # asse orizzontale\n",
    "    points_omega.append((min(gamma_max[0], gamma_max[2]/alpha, gamma_max[3]/(1-alpha)), 0.))\n",
    "\n",
    "    # intersezione I_1 e I_3\n",
    "    point = (gamma_max[0], gamma_max[2]/beta - alpha*gamma_max[0]/beta)\n",
    "    if is_acceptable(point, gamma_max, alpha, beta):\n",
    "        points_omega.append(point)\n",
    "\n",
    "    # intersezione I_1 e I_4\n",
    "    point = (gamma_max[0], gamma_max[3]/(1-beta) - (1-alpha)*gamma_max[0]/(1-beta))\n",
    "    if is_acceptable(point, gamma_max, alpha, beta):\n",
    "        points_omega.append(point)\n",
    "\n",
    "    # intersezione I_2 e I_3\n",
    "    point = (gamma_max[2]/alpha - beta*gamma_max[1]/alpha, gamma_max[1])\n",
    "    if is_acceptable(point, gamma_max, alpha, beta):\n",
    "        points_omega.append(point)\n",
    "\n",
    "    # intersezione I_2 e I_4\n",
    "    point = (gamma_max[3]/(1-alpha) - (1-beta)*gamma_max[1]/(1-alpha), gamma_max[1])\n",
    "    if is_acceptable(point, gamma_max, alpha, beta):\n",
    "        points_omega.append(point)\n",
    "\n",
    "    # intersezione I_3 e I_4\n",
    "    point = ((beta-1)*gamma_max[2]/(beta-alpha) + beta*gamma_max[3]/(beta-alpha),\n",
    "             (1-alpha)*gamma_max[2]/(beta-alpha) - alpha*gamma_max[3]*(beta-alpha))\n",
    "    if is_acceptable(point, gamma_max, alpha, beta):\n",
    "        points_omega.append(point)\n",
    "\n",
    "    sum_fluxes = [a+b for (a, b) in points_omega]\n",
    "    m_flux = max(sum_fluxes)\n",
    "    index = sum_fluxes.index(m_flux)\n",
    "\n",
    "    bar_f = list(points_omega[index])\n",
    "    bar_f.append(alpha*bar_f[0] + beta*bar_f[1])\n",
    "    bar_f.append((1-alpha)*bar_f[0] + (1-beta)*bar_f[1])\n",
    "\n",
    "    bar_f = np.array(bar_f)\n",
    "\n",
    "    return bar_f"
   ]
  },
  {
   "cell_type": "markdown",
   "id": "3e46e0cc",
   "metadata": {},
   "source": [
    "Scriviamo u  algoritmo che con le informazioni su un incrocio, calcola i flussi delle strade coinvolte. Passiamo le informazioni in questo modo:\n",
    "$$[\\hbox{tipo di incrocio}, \\hbox{strade entranti}, \\hbox{strade uscenti}, \\hbox{parametri}]$$\n",
    "dove:\n",
    "1. Tipo di incrocio può assumere tre valori: 12 (1x2), 21 (2x1), 22 (2x2); \n",
    "2. Strade entranti: [numero strada, numero strada]. Nel caso in cui l'incrocio coinvolga una sola strada entrante si ha solo una entrata.\n",
    "3. Strade uscenti: [numero strada, numero strada]. Nel caso in cui l'incrocio coinvolga una sola strada uscente si ha solo una entrata.\n",
    "Le strade sono salvate in un vettore in tale ordine: strade di tipo $I$ da 1 a 32, strade di tipo $j$ da 1 a 10, strade di tipo $r$ da 1 a 8, strade di tipo $E$ da 1 a 11. In totale sono 61 strade e la loro numerazione segue l'ordine da 0 a 60 che corrisponde all'indice nel vettore in cui sono salvate le informazioni.\n",
    "4. Parametri: [par_1] se incrocio 1x2 o 2x1, [par_1,par_2] se incrocio 2x2."
   ]
  },
  {
   "cell_type": "code",
   "execution_count": 8,
   "id": "5783d843",
   "metadata": {},
   "outputs": [],
   "source": [
    "def soluzione_incroci(info: list, roads:list, f_entrata: np.array, f_uscita : np.array) -> list:\n",
    "    # f_entrata e f_uscita sono dei vettori che ad ogni strada salvano gli eventuali valori del flusso agli incroci se sono coinvolte come strade entranti (f_entrata) o\n",
    "    # come strade uscenti (f_uscita). Tali valori sono salvati anche in un vettore f_bar che ad ogni incrocio salva i flussi delle strade coinvolte.\n",
    "    if info[0] == 12: # Incrocio 1x2\n",
    "        densities = [roads[info[1][0]][-1],roads[info[2][0]][0],roads[info[2][1]][0]]\n",
    "        f_bar = solution_1x2(densities,info[3][0])\n",
    "        f_entrata[info[1][0]] = f_bar[0]\n",
    "        f_uscita[info[2][0]] = f_bar[1]\n",
    "        f_uscita[info[2][1]] = f_bar[2]\n",
    "    elif info[0] == 21: # Incrocio 2x1\n",
    "        densities = [roads[info[1][0]][-1],roads[info[1][1]][-1],roads[info[2][0]][0]]\n",
    "        f_bar = solution_2x1(densities,info[3][0])\n",
    "        f_entrata[info[1][0]] = f_bar[0]\n",
    "        f_entrata[info[1][1]] = f_bar[1]\n",
    "        f_uscita[info[2][0]] = f_bar[2]\n",
    "    elif info[0] == 22: #Incrocio 2x2\n",
    "        densities = [roads[info[1][0]][-1],roads[info[1][1]][-1], roads[info[2][0]][0], roads[info[2][1]][0]]\n",
    "        f_bar = solution_2x2(densities,info[3])\n",
    "        f_entrata[info[1][0]] = f_bar[0]\n",
    "        f_entrata[info[2][1]] = f_bar[1]\n",
    "        f_uscita[info[2][0]] = f_bar[2]\n",
    "        f_uscita[info[2][1]] = f_bar[3]\n",
    "    else: \n",
    "        print('Errore') # Controlliamo che gli incroci siano solo di tipo 1x2, 2x1, 2x2\n",
    "    return [f_bar, f_entrata , f_uscita]\n",
    "    "
   ]
  },
  {
   "cell_type": "markdown",
   "id": "76c557a2",
   "metadata": {},
   "source": [
    "Creiamo una funzione per definire i semafori."
   ]
  },
  {
   "cell_type": "code",
   "execution_count": 9,
   "id": "64d95da4",
   "metadata": {},
   "outputs": [],
   "source": [
    "def semafori(t:float, n:int) -> bool:\n",
    "    # n è il numero del semaforo: S1 o S2\n",
    "    if t <0 : print('Errore')\n",
    "    if n == 1:\n",
    "        if t <= 25: return True # Semaforo Verde al tempo t\n",
    "        elif t <= 45 : return False # Semaforo Rosso al tempo t\n",
    "        else:\n",
    "            for k in range(100):\n",
    "                if t > 25*k + 20*k and t <= 25*(k+1) + 20*k:\n",
    "                    return True\n",
    "            return False\n",
    "    elif n == 2: # Per il semaforo S2 consideriamo come la situazione di verde (True) il caso in cui si verifica l'incrocio J15\"' e False invece quando sono attivi gli incroci J15' e J15\"\n",
    "        if t <= 40: return True # Semaforo Verde al tempo t\n",
    "        elif t <= 75 : return False # Semaforo Rosso al tempo t\n",
    "        else:\n",
    "            for k in range(100):\n",
    "                if t > 40*k + 35*k and t <= 40*(k+1) + 35*k:\n",
    "                    return True\n",
    "            return False\n",
    "    else: print('Errore')     "
   ]
  },
  {
   "cell_type": "markdown",
   "id": "d4584ca6",
   "metadata": {},
   "source": [
    "Schema numerico per le strade: questa applica il metodo numerico a volume finito per le ciascuna strada."
   ]
  },
  {
   "cell_type": "code",
   "execution_count": 10,
   "id": "c34c0508",
   "metadata": {},
   "outputs": [],
   "source": [
    "def numerical_scheme_on_roads(u:np.array, f:callable, lam:float, i:int, colore_S1:bool, colore_S2:bool,\n",
    "                              flux_left = None, flux_right = None, bordo = 0) -> np.array:\n",
    "    # Creiamo i vettori per U^n_{i+1} e U^n_{i-1}\n",
    "    u_plus = np.concatenate((u[1:], np.array([u[-1]])))\n",
    "    u_minus = np.concatenate((np.array([u[0]]), u[:-1]))\n",
    "\n",
    "    if colore_S1: # Il primo semaforo è verde, perciò le strade coinvolte fluiscono senza ostacoli\n",
    "      if i == 17 or i == 19:\n",
    "        u_minus = np.concatenate((np.array([bordo]), u[:-1]))\n",
    "      if i == 16 or i == 20:\n",
    "        u_plus = np.concatenate((u[1:], np.array([bordo])))\n",
    "    else: # Il semaforo è rosso quindi il flusso all'incrocio è nullo\n",
    "      if i == 17 or i == 19:\n",
    "          flux_left = 0\n",
    "      if i == 16 or i == 20:\n",
    "          flux_right = 0\n",
    "    \n",
    "    if colore_S2: # La rete include l'incrocio S15\"'\n",
    "       if i == 22 or i == 25:\n",
    "          flux_right = 0\n",
    "\n",
    "    res = u - lam * (f(u, u_plus, lam) - f(u_minus, u, lam))\n",
    "\n",
    "    # Ridefiniamo eventualmente i valori nelle due celle estremali usando flux_left e flux_right se definiti maggiori di zero (infatti sono inizializzati uguali a -1, nel caso\n",
    "    # in cui la strada entra o esce da un incrocio questo valore sarà modificato)\n",
    "    if flux_right >= 0:\n",
    "        res[-1] = u[-1] - lam * (flux_right  - f(u[-2], u[-1], lam))\n",
    "    if flux_left >= 0:\n",
    "        res[0] = u[0] - lam * (f(u[0], u[1], lam) - flux_left)\n",
    "    return res"
   ]
  },
  {
   "cell_type": "markdown",
   "id": "e20d81ee",
   "metadata": {},
   "source": [
    "Costruiamo ora l'algoritmo che risolve l'intera rete stradale. Innanzitutto calcola i flussi agli incroci e poi rinnova le informazioni sulle strade."
   ]
  },
  {
   "cell_type": "code",
   "execution_count": 11,
   "id": "6c293ffe",
   "metadata": {},
   "outputs": [],
   "source": [
    "def scheme(roads:list, f:callable, lam:float, colore_S1: bool, colore_S2: bool) -> list:\n",
    "    global incroci, n_strade_tot_rete\n",
    "    f_bar = []\n",
    "    f_entrata = np.ones(61)*(-1)\n",
    "    f_uscita = np.ones(61)*(-1)\n",
    "    # Calcoliamo i flussi agli incroci\n",
    "    if colore_S2:\n",
    "        for i in range(len(incroci)):\n",
    "            if i not in [20,21]:\n",
    "                temp = soluzione_incroci(incroci[i],roads, f_entrata,f_uscita)\n",
    "                f_bar.append(temp[0])\n",
    "                f_entrata = temp[1]\n",
    "                f_uscita = temp[2]\n",
    "    else:\n",
    "        for i in range(len(incroci)):\n",
    "            if i not in [22]:\n",
    "                temp = soluzione_incroci(incroci[i],roads, f_entrata,f_uscita)\n",
    "                f_bar.append(temp[0])\n",
    "                f_entrata = temp[1]\n",
    "                f_uscita = temp[2]\n",
    "\n",
    "    # Aggiorniamo la soluzione sulla rete stradale\n",
    "    res = []\n",
    "    for i in range(n_strade_tot_rete): # Non aggiorniamo le strade di tipo E\n",
    "        if i == 16:\n",
    "            res.append(numerical_scheme_on_roads(roads[i], f, lam, i, colore_S1, colore_S2, flux_left=f_uscita[i], flux_right=f_entrata[i], bordo = roads[19][0]))\n",
    "        elif i == 17:\n",
    "            res.append(numerical_scheme_on_roads(roads[i], f, lam, i, colore_S1, colore_S2, flux_left=f_uscita[i], flux_right=f_entrata[i], bordo = roads[20][-1]))\n",
    "        elif i == 19:\n",
    "            res.append(numerical_scheme_on_roads(roads[i], f, lam, i, colore_S1, colore_S2, flux_left=f_uscita[i], flux_right=f_entrata[i], bordo = roads[16][-1]))\n",
    "        elif i == 20:\n",
    "            res.append(numerical_scheme_on_roads(roads[i], f, lam, i, colore_S1, colore_S2, flux_left=f_uscita[i], flux_right=f_entrata[i], bordo = roads[17][0]))\n",
    "        else:\n",
    "            res.append(numerical_scheme_on_roads(roads[i], f, lam, i, colore_S1, colore_S2, flux_left=f_uscita[i], flux_right=f_entrata[i]))\n",
    "    return res"
   ]
  },
  {
   "cell_type": "markdown",
   "id": "d0e56fb2",
   "metadata": {},
   "source": [
    "Riportiamo due diversi flussi numerici che possiamo utilizzare: Lax-Friedrichs e Godunov."
   ]
  },
  {
   "cell_type": "code",
   "execution_count": 12,
   "id": "490227f9",
   "metadata": {},
   "outputs": [],
   "source": [
    "def Lax_Friedrichs(density1, density2,lam:float):\n",
    "    res = 0.5 * (flux(density1) + flux(density2)) - 0.5 * (density2 - density1)/lam\n",
    "    return res"
   ]
  },
  {
   "cell_type": "code",
   "execution_count": 13,
   "id": "20a8743b",
   "metadata": {},
   "outputs": [],
   "source": [
    "def Godunov(u_left:float, u_right:float, lam: float) -> float:\n",
    "    if u_left == u_right:\n",
    "        return flux(u_left)\n",
    "    elif u_left > u_right: # Rarefazione (il flusso è concavo)\n",
    "        if u_left <= sigma:\n",
    "            return flux(u_left)\n",
    "        elif u_right >= sigma:\n",
    "            return flux(u_right)\n",
    "        else:\n",
    "            return flux(sigma)\n",
    "    else: # u_left < u_right: shock (il flusso è concavo)\n",
    "        # velocità dello shock (Rankine-Hugoniot)\n",
    "        lam = (flux(u_left) - flux(u_right)) / (u_left - u_right)\n",
    "        if lam <= 0:\n",
    "            return flux(u_right)\n",
    "        else:\n",
    "            return flux(u_left)\n",
    "\n",
    "# Creiamo la funzione che lavora con gli array di Numpy\n",
    "vectGodunov = np.vectorize(Godunov)"
   ]
  },
  {
   "cell_type": "markdown",
   "id": "c60fe6e9",
   "metadata": {},
   "source": [
    "Iniziamo a inserire i dati, ovvero la lunghezza delle strade della rete."
   ]
  },
  {
   "cell_type": "code",
   "execution_count": 14,
   "id": "9efeece8",
   "metadata": {},
   "outputs": [],
   "source": [
    "I = np.zeros(32) # Strade del tipo I: strade principali interne alla rete\n",
    "for i in range(len(I)+1):\n",
    "    if i in [1,2,12,13,14,15,27,28,29,30]:\n",
    "        I[i-1] = 170\n",
    "    elif i in [5,6]:\n",
    "        I[i-1] = 450\n",
    "    elif i in [9,11,16,19,22]:\n",
    "        I[i-1] = 150\n",
    "    elif i in [17,18,20,21,23,24,25,26]:\n",
    "        I[i-1] = 85\n",
    "    elif i in [10,31,32]:\n",
    "        I[i-1] = 46\n",
    "I[2] = 140\n",
    "I[3] = 110\n",
    "I[6] = 56\n",
    "I[7] = 16\n",
    "\n",
    "j = np.ones(10)*8 # Strade del tipo j: strade interne agli incroci\n",
    "\n",
    "r = np.zeros(8) # Strade del tipo r: strade interne alle rotonde\n",
    "for i  in range(len(r)+1):\n",
    "    if i in [7,8]:\n",
    "        r[i-1] = 4\n",
    "    elif i in [3,6]:\n",
    "        r[i-1] = 12\n",
    "r[0] = 8\n",
    "r[1] = 10\n",
    "r[3] = 17\n",
    "r[4] = 14\n",
    "\n",
    "# Le strade di tipo E sono strade esterne e non ci interessa la loro lunghezza"
   ]
  },
  {
   "cell_type": "markdown",
   "id": "9049ba41",
   "metadata": {},
   "source": [
    "Scegliamo gli step spaziali per ciascuna strada."
   ]
  },
  {
   "cell_type": "code",
   "execution_count": 15,
   "id": "5da938ef",
   "metadata": {},
   "outputs": [],
   "source": [
    "dx =[I[i]/100 for i in range(len(I))] # Per le strade interne prendiamo uno step del 1%\n",
    "dx.append(np.float64(0.8)) # Per le strade degli incroci prendiamo un step del 10%\n",
    "dx.extend(r[k]/10 for k in range(len(r))) # Per le strade delle rotonde prendiamo uno step del 10%\n",
    "dx_min = min(dx)\n",
    "\n",
    "xx = [np.arange(dx[i]/2, I[i], dx[i]) for i in range(len(I))]\n",
    "xx.extend(np.arange(dx[i]/2, j[i], dx[i]) for i in range(len(j)))\n",
    "xx.extend(np.arange(dx[i]/2, r[i], dx[i]) for i in range(len(r)))"
   ]
  },
  {
   "cell_type": "markdown",
   "id": "23dd0529",
   "metadata": {},
   "source": [
    "Per scegliere lo step temporale utilizziamo la condizione CFL."
   ]
  },
  {
   "cell_type": "code",
   "execution_count": 16,
   "id": "ef3eff44",
   "metadata": {},
   "outputs": [
    {
     "name": "stdout",
     "output_type": "stream",
     "text": [
      "0.01152\n",
      "0.011420000000000001\n"
     ]
    }
   ],
   "source": [
    "max_df_global = V_max\n",
    "\n",
    "dt_lim = dx_min/max_df_global\n",
    "print(dt_lim)\n",
    "dt = dt_lim - 0.0001 # Soddisfa la CFL\n",
    "print(dt)"
   ]
  },
  {
   "cell_type": "markdown",
   "id": "d469abd2",
   "metadata": {},
   "source": [
    "Abbiamo costruito un vettore con tutte le informazioni sulle strade, nel seguente ordine: prima tutte le I da 1 a 32, poi tutte le j da 1 a 10, poi tutte le r da 1 a 8 e infine tutte le esterne da 1 a 11. Allora anche per gli incroci il numero della strada entrante o uscente rispetterà l'indice di questa lista python (parte da 0 fino a 60)."
   ]
  },
  {
   "cell_type": "code",
   "execution_count": 17,
   "id": "ac465228",
   "metadata": {},
   "outputs": [],
   "source": [
    "# Inseriamo i dati degli incroci\n",
    "par = [] # Lista dei parametri per ciascun incrocio\n",
    "par.append([1/3]) # J1\n",
    "par.append([0.3,0.9]) # J2'\n",
    "par.append([0.3]) # J2\"\n",
    "par.append([1/3]) # J3\n",
    "par.append([0.5]) # J4\n",
    "par.append([1/3]) # J5\n",
    "par.append([0.5]) # J6\n",
    "par.append([1/3]) # J7\n",
    "par.append([0.5]) # J8\n",
    "par.append([3]) # J9\n",
    "par.append([0.8,0.1]) # J10'\n",
    "par.append([0.8]) # J10\"\n",
    "par.append([0.9,0.5]) # J11'\n",
    "par.append([3]) # J11\"\n",
    "par.append([0.8,0.1]) # J12'\n",
    "par.append([0.5,0.8]) # J12\"\n",
    "par.append([0.5,0.7]) # J13'\n",
    "par.append([0.4,0.9]) # J13\"\n",
    "par.append([0.3]) # J14'\n",
    "par.append([0.4,0.9]) # J14\"\n",
    "par.append([0.5,0.1]) # J15'\n",
    "par.append([0.5]) # J15\"\n",
    "par.append([0.5]) # J15\"'\n",
    "par.append([3]) # J16'\n",
    "par.append([0.6,0.9]) # J16\"\n",
    "par.append([0.8]) # J17'\n",
    "par.append([0.2,0.9]) # J17\"\n",
    "par.append([3]) # J18'\n",
    "par.append([0.6,0.9]) # J18\"\n",
    "par.append([1/3]) # J19\n",
    "par.append([0.5]) # J20\n",
    "par.append([0.5]) # J21\n",
    "\n",
    "incroci = [] # Lista delle informazioni per ciascun incrocio: tipo, strade entranti, strade uscenti, parametri\n",
    "incroci.append([21,[2,50],[0], par[0]]) # J1\n",
    "incroci.append([22,[0,32],[3,4], par[1]]) # J2'\n",
    "incroci.append([12,[5],[1,32], par[2]]) # J2\"\n",
    "incroci.append([21,[4,47],[42], par[3]]) # J3\n",
    "incroci.append([12,[8],[6,43], par[4]]) # J4\n",
    "incroci.append([21,[7,43],[44], par[5]]) # J5\n",
    "incroci.append([12,[44],[45,51], par[6]]) # J6\n",
    "incroci.append([21,[45,52],[46], par[7]]) # J7\n",
    "incroci.append([12,[46],[5,47], par[8]]) # J8\n",
    "incroci.append([21,[8,9],[7], par[9]]) # J9\n",
    "incroci.append([22,[11,33],[0,10], par[10]]) # J10'\n",
    "incroci.append([12,[6],[12,33], par[11]]) # J10\"\n",
    "incroci.append([22,[14,15],[11,34], par[12]]) # J11'\n",
    "incroci.append([21,[12,34],[13], par[13]]) # J11\"\n",
    "incroci.append([22,[17,35],[14,18], par[14]]) # J12'\n",
    "incroci.append([22,[3,13],[16,35],par[15]])\n",
    "incroci.append([22,[21,53],[20,36], par[16]]) # J13'\n",
    "incroci.append([22,[19,36],[2,54], par[17]]) # J13\"\n",
    "incroci.append([12,[55],[22,37], par[18]]) # J14'\n",
    "incroci.append([22,[23,37],[21,56], par[19]]) # J14\"\n",
    "incroci.append([22,[22,38],[24,57], par[20]]) # J15'\n",
    "incroci.append([12,[25],[23,38], par[21]]) # J15\"\n",
    "incroci.append([12,[58],[23,24], par[22]]) # J15\"'\n",
    "incroci.append([21,[24,39],[26], par[23]]) # J16'\n",
    "incroci.append([22,[18,27],[25,39], par[24]]) # J16\"\n",
    "incroci.append([12,[26],[28,40], par[25]]) # J17'\n",
    "incroci.append([22,[29,40],[15,27], par[26]]) # J17\"\n",
    "incroci.append([21,[28,41],[30], par[27]]) # J18'\n",
    "incroci.append([22,[10,31],[29,41], par[28]]) # J18\"\n",
    "incroci.append([21,[30,49],[59], par[29]]) # J19\n",
    "incroci.append([12,[60],[8,48], par[30]]) # J20\n",
    "incroci.append([12,[48],[31,49], par[31]]) # J21"
   ]
  },
  {
   "cell_type": "code",
   "execution_count": 18,
   "id": "6b0a29ef",
   "metadata": {},
   "outputs": [
    {
     "name": "stdout",
     "output_type": "stream",
     "text": [
      "11\n",
      "50\n",
      "5254\n"
     ]
    }
   ],
   "source": [
    "T = 60 # tempo finale\n",
    "tt = np.arange(0., T, dt) # vettore dei tempi\n",
    "\n",
    "n_strade_tot_rete = len(I) + len(j) + len(r)\n",
    "\n",
    "# Valori delle strade esterne\n",
    "E_in = E_sin(tt)\n",
    "E_out = E_cos(tt)\n",
    "\n",
    "E = np.zeros((11,len(tt)))\n",
    "E[0,:] = E_in # E1\n",
    "E[1,:] = E_out # E2\n",
    "E[2,:] = E_in # E3\n",
    "E[3,:] = E_in # E4\n",
    "E[4,:] = E_out # E5\n",
    "E[5,:] = E_in # E6\n",
    "E[6,:] = E_out # E7\n",
    "E[7,:] = E_out # E8\n",
    "E[8,:] = E_in # E9\n",
    "E[9,:] = E_out # E10\n",
    "E[10,:] = E_in # E11\n",
    "print(len(E))\n",
    "    \n",
    "\n",
    "U =[np.zeros(len(xx[i])) for i in range(n_strade_tot_rete)]\n",
    "print(len(U))\n",
    "\n",
    "print(len(tt))"
   ]
  },
  {
   "cell_type": "markdown",
   "id": "f1e52f69",
   "metadata": {},
   "source": [
    "Inseriamo i dati inziali per ciascuna strada principale (tipo I). Per le strade secondarie (j e r) impostiamo che siano vuote al tempo 0."
   ]
  },
  {
   "cell_type": "code",
   "execution_count": 19,
   "id": "d9546b63",
   "metadata": {},
   "outputs": [
    {
     "name": "stdout",
     "output_type": "stream",
     "text": [
      "50\n"
     ]
    }
   ],
   "source": [
    "rho_0 =[]\n",
    "rho_0.append(np.ones(len(xx[0]))*0.2) # I1\n",
    "for i in range(len(xx[0])):\n",
    "    if xx[0][i] >= 75 and xx[0][i]<= 85:\n",
    "        rho_0[0][i] = 0.6\n",
    "\n",
    "rho_0.append(np.ones(len(xx[1]))*0.2) # I2\n",
    "for i in range(len(xx[1])):\n",
    "    if xx[1][i] >= 75 and xx[1][i]<= 85:\n",
    "        rho_0[1][i] = 0.6\n",
    "rho_0.append((1/425)*xx[2]) # I3\n",
    "rho_0.append((1/275)*xx[3]) # I4\n",
    "rho_0.append(0.2*np.ones(len(xx[4]))) # I5\n",
    "for i in range(len(xx[4])):\n",
    "    if xx[4][i] >= 420:\n",
    "        rho_0[4][i] = 0.4\n",
    "\n",
    "rho_0.append(0.2*np.ones(len(xx[5]))) # I6\n",
    "rho_0.append(0.2*np.ones(len(xx[6]))) # I7\n",
    "rho_0.append(0.4*np.ones(len(xx[7]))) # I8\n",
    "rho_0.append((1/500)*xx[8]) # I9\n",
    "rho_0.append(0.2*np.ones(len(xx[9]))) # I10\n",
    "rho_0.append((1/500)*xx[10]) # I11\n",
    "rho_0.append(0.2*np.ones(len(xx[11]))) # I12\n",
    "rho_0.append(0.2*np.ones(len(xx[12]))) # I13\n",
    "rho_0.append(0.2*np.ones(len(xx[13]))) # I14\n",
    "rho_0.append(0.2*np.ones(len(xx[14]))) # I15\n",
    "rho_0.append((1/500)*xx[15]) # I16\n",
    "rho_0.append(np.zeros(len(xx[16]))) # I17\n",
    "for i in range(len(xx[16])):\n",
    "    if xx[16][i] >= 75:\n",
    "        rho_0[16][i] = 0.8\n",
    "\n",
    "rho_0.append(np.zeros(len(xx[17]))) # I18\n",
    "rho_0.append((1/500)*xx[8]) # I19\n",
    "rho_0.append(np.zeros(len(xx[19]))) # I20\n",
    "rho_0.append(np.zeros(len(xx[20]))) # I21\n",
    "for i in range(len(xx[20])):\n",
    "    if xx[20][i] >= 75:\n",
    "        rho_0[20][i] = 0.8\n",
    "\n",
    "rho_0.append((1/500)*xx[21]) # I22\n",
    "rho_0.append(0.4*np.ones(len(xx[22]))) # I23\n",
    "rho_0.append(np.zeros(len(xx[23]))) # I24\n",
    "rho_0.append(np.zeros(len(xx[24]))) # I25\n",
    "rho_0.append(0.4*np.ones(len(xx[25]))) # I26\n",
    "rho_0.append(0.2*np.ones(len(xx[26]))) # I27\n",
    "rho_0.append(0.2*np.ones(len(xx[27]))) # I28\n",
    "rho_0.append(0.2*np.ones(len(xx[28]))) # I29\n",
    "rho_0.append(0.2*np.ones(len(xx[29]))) # I30\n",
    "rho_0.append(0.4*np.ones(len(xx[30]))) # I31\n",
    "rho_0.append(np.zeros(len(xx[31]))) # I32\n",
    "\n",
    "for i in range(32,50):\n",
    "    rho_0.append(np.zeros(len(xx[i])))\n",
    "\n",
    "print(len(rho_0))"
   ]
  },
  {
   "cell_type": "code",
   "execution_count": 20,
   "id": "000a8e5b",
   "metadata": {},
   "outputs": [
    {
     "name": "stdout",
     "output_type": "stream",
     "text": [
      "61\n"
     ]
    }
   ],
   "source": [
    "temp = rho_0\n",
    "for i in range(11):\n",
    "    temp.append([E[i,0]])\n",
    "\n",
    "print(len(temp))\n"
   ]
  },
  {
   "cell_type": "code",
   "execution_count": 21,
   "id": "3c021ef7",
   "metadata": {},
   "outputs": [],
   "source": [
    "f = open(\"dati_simulazione_prova\", \"wb\")\n",
    "dump(len(tt),f)\n",
    "for k in range(len(tt)-1):\n",
    "  # La rete stradale coinvolge due semafori, perciò calcoliamo al tempo tt[j] se sono verdi o rossi\n",
    "  colore_S1 = semafori(tt[k],1)\n",
    "  colore_S2 = semafori(tt[k],2)\n",
    "  dump(temp,f)\n",
    "  U = scheme(temp, vectGodunov, dt/dx_min, colore_S1, colore_S2)\n",
    "  temp = U\n",
    "  for i in range(11):\n",
    "    temp.append([E[i,k]])\n",
    "\n",
    "f.close()\n"
   ]
  }
 ],
 "metadata": {
  "kernelspec": {
   "display_name": "Python 3",
   "language": "python",
   "name": "python3"
  },
  "language_info": {
   "codemirror_mode": {
    "name": "ipython",
    "version": 3
   },
   "file_extension": ".py",
   "mimetype": "text/x-python",
   "name": "python",
   "nbconvert_exporter": "python",
   "pygments_lexer": "ipython3",
   "version": "3.13.1"
  }
 },
 "nbformat": 4,
 "nbformat_minor": 5
}
